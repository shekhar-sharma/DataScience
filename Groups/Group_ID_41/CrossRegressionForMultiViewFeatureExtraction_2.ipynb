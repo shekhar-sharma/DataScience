{
  "nbformat": 4,
  "nbformat_minor": 0,
  "metadata": {
    "colab": {
      "name": "CrossRegressionForMultiViewFeatureExtraction (2).ipynb",
      "provenance": [],
      "collapsed_sections": []
    },
    "kernelspec": {
      "name": "python3",
      "display_name": "Python 3"
    },
    "accelerator": "TPU"
  },
  "cells": [
    {
      "cell_type": "code",
      "metadata": {
        "id": "mvF2lxDLXmUs"
      },
      "source": [
        "from PIL import Image\r\n",
        "import numpy as np"
      ],
      "execution_count": null,
      "outputs": []
    },
    {
      "cell_type": "code",
      "metadata": {
        "id": "G6KBQhevgpEh",
        "colab": {
          "base_uri": "https://localhost:8080/"
        },
        "outputId": "37573312-86c2-4fce-9d3d-3c61c0f86d6f"
      },
      "source": [
        "'''\r\n",
        "So basically,\r\n",
        "A = 8 i.e. 8 diff views in 8 rows\r\n",
        "n = 10 i.e. 10 different objects corresponding to a view\r\n",
        "'''\r\n",
        "X = np.zeros((11,32,32))\r\n",
        "for view in range(8):\r\n",
        "  #initialize current view with a 32x32 matrix\r\n",
        "  curr_view = np.zeros((32,32))\r\n",
        "  \r\n",
        "  for object in range(1,11):\r\n",
        "    \r\n",
        "    img = np.array(Image.open('obj'+str(object)+'__'+str(view)+'.png'))\r\n",
        "    # print('image', img.shape)\r\n",
        "    curr_view = np.append(curr_view, img, axis = 0)\r\n",
        "\r\n",
        "  # print(curr_view.shape)\r\n",
        "  # now curr_view is in 11 128x128 matrix form\r\n",
        "  curr_view = np.reshape(curr_view, (11,32,32))\r\n",
        "  curr_view = curr_view[1:]\r\n",
        "  # print(curr_view.shape)\r\n",
        "\r\n",
        "  X = np.append(X, curr_view, axis = 0)\r\n",
        "print(X.shape)\r\n",
        "X = X[11:]\r\n",
        "X = np.reshape(X, (8,10,32,32))"
      ],
      "execution_count": null,
      "outputs": [
        {
          "output_type": "stream",
          "text": [
            "(91, 32, 32)\n"
          ],
          "name": "stdout"
        }
      ]
    },
    {
      "cell_type": "code",
      "metadata": {
        "id": "SRTTyoz_kBSX",
        "colab": {
          "base_uri": "https://localhost:8080/"
        },
        "outputId": "9cf27a0d-72b4-4bf2-9878-66df23b88d67"
      },
      "source": [
        "X.shape"
      ],
      "execution_count": null,
      "outputs": [
        {
          "output_type": "execute_result",
          "data": {
            "text/plain": [
              "(8, 10, 32, 32)"
            ]
          },
          "metadata": {
            "tags": []
          },
          "execution_count": 3
        }
      ]
    },
    {
      "cell_type": "markdown",
      "metadata": {
        "id": "eR24erU_-kZu"
      },
      "source": [
        "Compute O:"
      ]
    },
    {
      "cell_type": "code",
      "metadata": {
        "id": "iVNkLqbvl_am"
      },
      "source": [
        ""
      ],
      "execution_count": null,
      "outputs": []
    },
    {
      "cell_type": "code",
      "metadata": {
        "id": "x2RdpjMx9T1B",
        "colab": {
          "base_uri": "https://localhost:8080/"
        },
        "outputId": "d477d546-8a53-4fd9-ecbc-b420b7a43c35"
      },
      "source": [
        "# first calculate L\r\n",
        "# print(X[0].shape) # -> (10, 32, 32)\r\n",
        "# first convert to 2D matrix for matrix multiplication in L\r\n",
        "\r\n",
        "#32x32 = 10245\r\n",
        "X_2d =  np.zeros((10,1024))\r\n",
        "for view in range(8):\r\n",
        "  temp = np.reshape(X[view], (10,1024))\r\n",
        "  X_2d = np.append(X_2d, temp, axis = 0)\r\n",
        "\r\n",
        "\r\n",
        "# removing the first zero matrix\r\n",
        "X_2d = X_2d[10:]\r\n",
        "\r\n",
        "X_2d = np.reshape(X_2d, (8,10,1024))\r\n",
        "print(X_2d.shape)\r\n",
        "print(X_2d[0].shape) "
      ],
      "execution_count": null,
      "outputs": [
        {
          "output_type": "stream",
          "text": [
            "(8, 10, 1024)\n",
            "(10, 1024)\n"
          ],
          "name": "stdout"
        }
      ]
    },
    {
      "cell_type": "code",
      "metadata": {
        "id": "mUfikYeoR4s5",
        "colab": {
          "base_uri": "https://localhost:8080/"
        },
        "outputId": "22bc30bb-1688-4bc1-f0fb-50caf4fae119"
      },
      "source": [
        "# now rows of X_2d will be used as 2d matrix for matrix multiplication in \r\n",
        "# caculating L\r\n",
        "\r\n",
        "# first initialize L as follows:\r\n",
        "L = np.zeros((8, 1024,1024))\r\n",
        "for view in range(8):\r\n",
        "  L = np.append(L, np.zeros((8, 1024,1024)), axis = 0)\r\n",
        "L = L[8:]\r\n",
        "L = np.reshape(L, (8,8,1024,1024))\r\n",
        "print(L.shape)\r\n",
        "\r\n",
        "#sparse matrix api"
      ],
      "execution_count": null,
      "outputs": [
        {
          "output_type": "stream",
          "text": [
            "(8, 8, 1024, 1024)\n"
          ],
          "name": "stdout"
        }
      ]
    },
    {
      "cell_type": "code",
      "metadata": {
        "id": "OehY5s7actL9",
        "colab": {
          "base_uri": "https://localhost:8080/"
        },
        "outputId": "66cca8a7-f5b6-4cf5-9246-2da51651b5b1"
      },
      "source": [
        "'''\r\n",
        "Now calculate X1.X1' ..... XA.XA' and put it in L\r\n",
        "shape of L = (8, 8, 1024, 1024)\r\n",
        "\r\n",
        "first view position = L[0][0]\r\n",
        "second view position = L[1][1]\r\n",
        "... upto A\r\n",
        "\r\n",
        "So substitute a 1024x1024 matrix\r\n",
        "'''\r\n",
        "for view in range(8):\r\n",
        "\r\n",
        "  # dimension of Xa -> (10, 1024)\r\n",
        "  Xa = X_2d[view]\r\n",
        "  # dimension of Xa' -> (1024, 10)\r\n",
        "  Xa_t = np.transpose(Xa)\r\n",
        "\r\n",
        "  # d_element -> multiply Xa and Xa'\r\n",
        "  d_element = np.matmul(Xa_t, Xa)\r\n",
        "  L[view][view] = d_element\r\n",
        "\r\n",
        "\r\n",
        "L = np.reshape(L,(1024*8, 1024*8))\r\n",
        "print(L.shape)"
      ],
      "execution_count": null,
      "outputs": [
        {
          "output_type": "stream",
          "text": [
            "(8192, 8192)\n"
          ],
          "name": "stdout"
        }
      ]
    },
    {
      "cell_type": "code",
      "metadata": {
        "id": "yzd6WZjLzg5r"
      },
      "source": [
        "'''\r\n",
        "Let gamma be 0.9\r\n",
        "\r\n",
        "Now calculate the term 1 in the multiplication\r\n",
        "'''\r\n",
        "gamma = 0.9\r\n",
        "I = np.identity(8192)\r\n",
        "\r\n",
        "term1 = np.add(L, gamma*I)\r\n",
        "\r\n",
        "#finally take inverse\r\n",
        "term1 = np.linalg.inv(term1)"
      ],
      "execution_count": null,
      "outputs": []
    },
    {
      "cell_type": "code",
      "metadata": {
        "id": "rOXjwSUk2GGw",
        "colab": {
          "base_uri": "https://localhost:8080/"
        },
        "outputId": "390bca45-8550-4d8d-85da-65e5aec07673"
      },
      "source": [
        "term1.shape"
      ],
      "execution_count": null,
      "outputs": [
        {
          "output_type": "execute_result",
          "data": {
            "text/plain": [
              "(8192, 8192)"
            ]
          },
          "metadata": {
            "tags": []
          },
          "execution_count": 8
        }
      ]
    },
    {
      "cell_type": "code",
      "metadata": {
        "id": "_RTrgV44opfK",
        "colab": {
          "base_uri": "https://localhost:8080/"
        },
        "outputId": "dc244302-4200-427d-84a1-e4ec81907bf9"
      },
      "source": [
        "'''\r\n",
        "Calculate term 2 of O\r\n",
        "\r\n",
        "Dimensions would be as follows:\r\n",
        "\r\n",
        "Xa = 10 x 1024\r\n",
        "Xa' = 1024 x 10\r\n",
        "X = (8,10,1024) -> (10,1024*8) -> (10, 8192)\r\n",
        "\r\n",
        "Multiplication of above three terms = 10 x 1024\r\n",
        "\r\n",
        "On multiplication with outer X', finally we get 1024 x 1024 matrix\r\n",
        "'''\r\n",
        "sum = np.zeros((10,8192))\r\n",
        "\r\n",
        "#calculating the summation\r\n",
        "for view in range(8):\r\n",
        "  \r\n",
        "  # dimension of Xa -> (10, 1024)\r\n",
        "  Xa = X_2d[view]\r\n",
        "\r\n",
        "  # dimension of Xa' -> (1024, 10)\r\n",
        "  Xa_t = np.transpose(Xa)\r\n",
        "  \r\n",
        "  X_sum = np.reshape(X_2d, (10,8192))\r\n",
        "  \r\n",
        "  sum = np.add(sum,np.matmul(np.matmul(Xa,Xa_t),X_sum))\r\n",
        "\r\n",
        "temp_X2d = np.reshape(X_2d, (10,8192))\r\n",
        "\r\n",
        "#calculating the term 2\r\n",
        "term2 = np.matmul(np.transpose(temp_X2d), sum)\r\n",
        "print(term2.shape)"
      ],
      "execution_count": null,
      "outputs": [
        {
          "output_type": "stream",
          "text": [
            "(8192, 8192)\n"
          ],
          "name": "stdout"
        }
      ]
    },
    {
      "cell_type": "code",
      "metadata": {
        "id": "gKSv6ztt-4-r"
      },
      "source": [
        "O = np.matmul(term1, term2)"
      ],
      "execution_count": null,
      "outputs": []
    },
    {
      "cell_type": "code",
      "metadata": {
        "id": "7Ei1EUhY_Au8",
        "colab": {
          "base_uri": "https://localhost:8080/"
        },
        "outputId": "7346def8-c556-44c6-e70b-9fb3ce885dbb"
      },
      "source": [
        "O.shape"
      ],
      "execution_count": null,
      "outputs": [
        {
          "output_type": "execute_result",
          "data": {
            "text/plain": [
              "(8192, 8192)"
            ]
          },
          "metadata": {
            "tags": []
          },
          "execution_count": 11
        }
      ]
    },
    {
      "cell_type": "code",
      "metadata": {
        "id": "xI4jUkyL_CKd",
        "colab": {
          "base_uri": "https://localhost:8080/"
        },
        "outputId": "df066b18-6b80-4d49-907a-c13e76126bf6"
      },
      "source": [
        "O"
      ],
      "execution_count": null,
      "outputs": [
        {
          "output_type": "execute_result",
          "data": {
            "text/plain": [
              "array([[ 1.66745020e+23,  1.66745020e+23,  1.66745020e+23, ...,\n",
              "         3.67001059e+23,  3.67001059e+23,  3.67001059e+23],\n",
              "       [-6.17270414e+22, -6.17270414e+22, -6.17270414e+22, ...,\n",
              "        -1.34483520e+23, -1.34483520e+23, -1.34483520e+23],\n",
              "       [ 5.48377964e+23,  5.48377964e+23,  5.48377964e+23, ...,\n",
              "         1.20433882e+24,  1.20433882e+24,  1.20433882e+24],\n",
              "       ...,\n",
              "       [-7.18348498e+23, -7.18348498e+23, -7.18348498e+23, ...,\n",
              "        -1.56901194e+24, -1.56901194e+24, -1.56901194e+24],\n",
              "       [ 6.93932227e+23,  6.93932227e+23,  6.93932227e+23, ...,\n",
              "         1.51895220e+24,  1.51895220e+24,  1.51895220e+24],\n",
              "       [ 1.78150285e+23,  1.78150285e+23,  1.78150285e+23, ...,\n",
              "         3.88444236e+23,  3.88444236e+23,  3.88444236e+23]])"
            ]
          },
          "metadata": {
            "tags": []
          },
          "execution_count": 12
        }
      ]
    },
    {
      "cell_type": "code",
      "metadata": {
        "id": "rHYD87BpWxtz"
      },
      "source": [
        "eig_value, eig_vectors = np.linalg.eig(O)"
      ],
      "execution_count": null,
      "outputs": []
    },
    {
      "cell_type": "code",
      "metadata": {
        "id": "BDx252B_22Hz",
        "colab": {
          "base_uri": "https://localhost:8080/"
        },
        "outputId": "9abaf085-964b-4afb-d97d-c018d38c3d2d"
      },
      "source": [
        "eig_value.shape"
      ],
      "execution_count": null,
      "outputs": [
        {
          "output_type": "execute_result",
          "data": {
            "text/plain": [
              "(8192,)"
            ]
          },
          "metadata": {
            "tags": []
          },
          "execution_count": 14
        }
      ]
    },
    {
      "cell_type": "code",
      "metadata": {
        "id": "3unKkusH26Yx",
        "colab": {
          "base_uri": "https://localhost:8080/"
        },
        "outputId": "55b28b28-857e-4ccf-adb5-6643c4f88ba2"
      },
      "source": [
        "eig_vectors.shape"
      ],
      "execution_count": null,
      "outputs": [
        {
          "output_type": "execute_result",
          "data": {
            "text/plain": [
              "(8192, 8192)"
            ]
          },
          "metadata": {
            "tags": []
          },
          "execution_count": 15
        }
      ]
    },
    {
      "cell_type": "code",
      "metadata": {
        "id": "YzVMRYd33Y-n",
        "colab": {
          "base_uri": "https://localhost:8080/"
        },
        "outputId": "eaf716ed-9e35-4491-be02-3c62122fcd90"
      },
      "source": [
        "#choose first 8 eigen vectors for V = 8\r\n",
        "P = eig_vectors[:8,:40]\r\n",
        "\r\n",
        "# Now multiply\r\n",
        "print(P[0,:].shape)\r\n"
      ],
      "execution_count": null,
      "outputs": [
        {
          "output_type": "stream",
          "text": [
            "(40,)\n"
          ],
          "name": "stdout"
        }
      ]
    },
    {
      "cell_type": "code",
      "metadata": {
        "colab": {
          "base_uri": "https://localhost:8080/"
        },
        "id": "EsiUeLc8Lhko",
        "outputId": "762509aa-ea71-4f9d-fa08-e484e56b3404"
      },
      "source": [
        "Z = np.zeros((8,256))\r\n",
        "for view in range(8):\r\n",
        "  Xa = X_2d[view]\r\n",
        "  Xa = np.reshape(Xa, (256,40))\r\n",
        "  Pa = P[view,:]\r\n",
        "  temp = np.matmul(Xa,Pa)\r\n",
        "\r\n",
        "  Z = np.add(Z,temp)\r\n",
        "print(Z)\r\n"
      ],
      "execution_count": null,
      "outputs": [
        {
          "output_type": "stream",
          "text": [
            "[[ 11.6770626  -2.01302228j  -0.35263939 +0.10846071j\n",
            "  109.3426459 -15.45326445j ...  -7.80441072 +3.54567389j\n",
            "   25.88616234 -1.66109872j  51.88017576 -1.02359664j]\n",
            " [ 11.6770626  -2.01302228j  -0.35263939 +0.10846071j\n",
            "  109.3426459 -15.45326445j ...  -7.80441072 +3.54567389j\n",
            "   25.88616234 -1.66109872j  51.88017576 -1.02359664j]\n",
            " [ 11.6770626  -2.01302228j  -0.35263939 +0.10846071j\n",
            "  109.3426459 -15.45326445j ...  -7.80441072 +3.54567389j\n",
            "   25.88616234 -1.66109872j  51.88017576 -1.02359664j]\n",
            " ...\n",
            " [ 11.6770626  -2.01302228j  -0.35263939 +0.10846071j\n",
            "  109.3426459 -15.45326445j ...  -7.80441072 +3.54567389j\n",
            "   25.88616234 -1.66109872j  51.88017576 -1.02359664j]\n",
            " [ 11.6770626  -2.01302228j  -0.35263939 +0.10846071j\n",
            "  109.3426459 -15.45326445j ...  -7.80441072 +3.54567389j\n",
            "   25.88616234 -1.66109872j  51.88017576 -1.02359664j]\n",
            " [ 11.6770626  -2.01302228j  -0.35263939 +0.10846071j\n",
            "  109.3426459 -15.45326445j ...  -7.80441072 +3.54567389j\n",
            "   25.88616234 -1.66109872j  51.88017576 -1.02359664j]]\n"
          ],
          "name": "stdout"
        }
      ]
    }
  ]
}
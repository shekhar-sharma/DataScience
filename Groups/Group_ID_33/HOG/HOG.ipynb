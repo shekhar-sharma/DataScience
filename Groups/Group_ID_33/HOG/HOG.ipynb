{
 "cells": [
  {
   "cell_type": "code",
   "execution_count": 156,
   "metadata": {},
   "outputs": [],
   "source": [
    "from skimage.io import imshow\n",
    "from skimage.transform import resize\n",
    "from skimage import exposure\n",
    "from skimage import draw\n",
    "import matplotlib.pyplot as plt\n",
    "import cv2\n",
    "import numpy as np\n",
    "%matplotlib inline\n",
    "\n",
    "class HOG:\n",
    "  \n",
    "    def calculate_magnitude_orientation(self,img):\n",
    "        gradient_y = np.empty(img.shape, dtype=np.double)\n",
    "        gradient_y[0, :] = 0\n",
    "        gradient_y[-1, :] = 0\n",
    "        gradient_y[1:-1, :] = img[2:, :] - img[:-2, :]\n",
    "        gradient_x = np.empty(img.shape, dtype=np.double)\n",
    "        gradient_x[:, 0] = 0\n",
    "        gradient_x[:, -1] = 0\n",
    "        gradient_x[:, 1:-1] = img[:, 2:] - img[:, :-2]\n",
    "        magnitude = np.hypot(gradient_x,gradient_y)\n",
    "        orientation = np.rad2deg(np.arctan2(gradient_y, gradient_x)) % 180\n",
    "        if(img.ndim==3):\n",
    "            mg = np.empty((magnitude.shape[0],magnitude.shape[1]))\n",
    "            ag = np.empty((orientation.shape[0],orientation.shape[1]))\n",
    "            for i in range(magnitude.shape[0]):\n",
    "                for j in range(magnitude.shape[1]):\n",
    "                    index = np.argmax(magnitude[i][j])\n",
    "                    mg[i][j] = magnitude[i][j][index]\n",
    "                    ag[i][j] = orientation[i][j][index]\n",
    "            return mg,ag\n",
    "            \n",
    "        return magnitude,orientation\n",
    "    \n",
    "    def get_hist_cell(self,img,pixels_per_cell=(8,8),cells_per_block=(2,2),bins=9):\n",
    "        \n",
    "        #number of cells in x direction\n",
    "        no_of_cells_x = img.shape[1]//pixels_per_cell[1]\n",
    "        \n",
    "        #number of cells in y direction\n",
    "        no_of_cells_y = img.shape[0]//pixels_per_cell[0]\n",
    "        \n",
    "        angle_range = 180//bins\n",
    "        \n",
    "        # creating histogram matrix (shape : [no_of_cells_x][no_of_cells_y][bins])\n",
    "        \n",
    "        orientation_histogram = np.zeros((no_of_cells_y, no_of_cells_x, bins))\n",
    "        \n",
    "        magnitude,orientation = self.calculate_magnitude_orientation(img)\n",
    "        \n",
    "        for row in range(no_of_cells_y):\n",
    "            for col in range(no_of_cells_x):\n",
    "                for i in range(pixels_per_cell[0]):\n",
    "                    for j in range(pixels_per_cell[1]):\n",
    "                        angle = orientation[i+row*pixels_per_cell[0]][j+col*pixels_per_cell[1]].astype(int)\n",
    "                        mg = magnitude[i+row*pixels_per_cell[0]][j+col*pixels_per_cell[1]].astype(int)\n",
    "                        if(angle%angle_range==0):\n",
    "                            orientation_histogram[row][col][(angle//20)%9] += mg\n",
    "                        else:\n",
    "                            pa = (angle//angle_range)*angle_range\n",
    "                            na = pa+angle_range\n",
    "                            orientation_histogram[row][col][pa//angle_range] += ((na-angle)/angle_range)*angle\n",
    "                            orientation_histogram[row][col][(na//angle_range)%9] += ((angle-pa)/angle_range)*angle\n",
    "                        \n",
    "\n",
    "        return orientation_histogram\n",
    "    \n",
    "    \n",
    "    def visualize_hog(self,img,orientation_histogram,pixels_per_cell,cells_per_block,bins):\n",
    "        s_row, s_col = img.shape[:2]\n",
    "        c_row, c_col = 8,8\n",
    "        b_row, b_col = 2,2\n",
    "        \n",
    "        n_cells_row = int(s_row // c_row)  # number of cells along row-axis\n",
    "        n_cells_col = int(s_col // c_col)  # number of cells along col-axis\n",
    "        orientations = bins\n",
    "        ot = self.get_hist_cell(img)\n",
    "        # now compute the histogram for each cell\n",
    "        hog_image = None\n",
    "        radius = min(c_row, c_col) // 2 - 1\n",
    "        orientations_arr = np.arange(orientations)\n",
    "        # set dr_arr, dc_arr to correspond to midpoints of orientation bins\n",
    "        orientation_bin_midpoints = (\n",
    "            np.pi * (orientations_arr + .5) / orientations)\n",
    "        dr_arr = radius * np.sin(orientation_bin_midpoints)\n",
    "        dc_arr = radius * np.cos(orientation_bin_midpoints)\n",
    "        hog_image = np.zeros((s_row, s_col), dtype=float)\n",
    "        for r in range(n_cells_row):\n",
    "            for c in range(n_cells_col):\n",
    "                for o, dr, dc in zip(orientations_arr, dr_arr, dc_arr):\n",
    "                    centre = tuple([r * c_row + c_row // 2,\n",
    "                                    c * c_col + c_col // 2])\n",
    "                    rr, cc = draw.line(int(centre[0] - dc),\n",
    "                                       int(centre[1] + dr),\n",
    "                                       int(centre[0] + dc),\n",
    "                                       int(centre[1] - dr))\n",
    "                    hog_image[rr, cc] += orientation_histogram[r, c, o]\n",
    "        imshow(hog_image,cmap=\"gray\")\n",
    "    \n",
    "    \n",
    "    def hog(self,image,pixels_per_cell=(8,8),cells_per_block=(2,2),bins=9,visualize=True):\n",
    "        final_feature = []\n",
    "        orientation_histogram = self.get_hist_cell(image,pixels_per_cell,cells_per_block,bins)\n",
    "        ot = np.copy(orientation_histogram)\n",
    "        \n",
    "        if(image.shape[0]==pixels_per_cell[0]):\n",
    "            return np.array(list(np.concatenate(orientation_histogram).flat))\n",
    "        \n",
    "        for i in range(orientation_histogram.shape[0]-1):\n",
    "            for j in range(orientation_histogram.shape[1]-1):\n",
    "                norm = np.sqrt(np.sum(np.square(orientation_histogram[i:(i+cells_per_block[0]),j:(j+cells_per_block[1])])))\n",
    "                copy_hog=orientation_histogram[i:(i+cells_per_block[0]),j:(j+cells_per_block[0])]\n",
    "                if(norm!=0):\n",
    "                    copy_hog/=norm\n",
    "                final_feature.append(copy_hog.reshape(bins*cells_per_block[0]*cells_per_block[1]))\n",
    "        feature_vector = np.array(list(np.concatenate(final_feature).flat))\n",
    "        if(visualize):\n",
    "            self.visualize_hog(image,ot,pixels_per_cell,cells_per_block,bins)\n",
    "        return feature_vector"
   ]
  },
  {
   "cell_type": "code",
   "execution_count": 157,
   "metadata": {},
   "outputs": [
    {
     "data": {
      "image/png": "[encoded data removed]",
      "text/plain": [
       "<Figure size 432x288 with 2 Axes>"
      ]
     },
     "metadata": {
      "needs_background": "light"
     },
     "output_type": "display_data"
    }
   ],
   "source": [
    "from skimage.io import imread, imshow\n",
    "img = imread('sudoku-img-2.png')\n",
    "hog = HOG()\n",
    "array = hog.hog(img,visualize=True)"
   ]
  },
  {
   "cell_type": "code",
   "execution_count": 189,
   "metadata": {},
   "outputs": [],
   "source": [
    "def phog(img,levels):\n",
    "    phog_vector = np.array([])\n",
    "    \n",
    "    for level in range(levels):\n",
    "        pixels_per_cell = (img.shape[0]//2**level,img.shape[1]//2**level)\n",
    "        hog_object = HOG()\n",
    "        level_hog_vector = hog_object.hog(img,pixels_per_cell,(1,1),bins=9,visualize=False)\n",
    "        phog_vector = np.append(phog_vector,level_hog_vector)\n",
    "    return phog_vector"
   ]
  },
  {
   "cell_type": "code",
   "execution_count": 190,
   "metadata": {},
   "outputs": [
    {
     "name": "stdout",
     "output_type": "stream",
     "text": [
      "sdfds 9\n",
      "sdfds 9\n",
      "sdfds 81\n"
     ]
    },
    {
     "data": {
      "text/plain": [
       "array([1.37960260e+06, 1.92018500e+04, 5.17396000e+04, 4.94434000e+04,\n",
       "       4.58191500e+05, 4.11682050e+05, 0.00000000e+00, 0.00000000e+00,\n",
       "       0.00000000e+00, 9.15361422e-01, 1.34533617e-02, 3.80113693e-02,\n",
       "       3.89738171e-02, 3.00344128e-01, 2.62225202e-01, 0.00000000e+00,\n",
       "       0.00000000e+00, 0.00000000e+00, 8.96348398e-01, 1.51113523e-02,\n",
       "       3.98510215e-02, 4.85270316e-02, 3.31601306e-01, 2.87104153e-01,\n",
       "       0.00000000e+00, 0.00000000e+00, 0.00000000e+00, 9.13652564e-01,\n",
       "       4.22738079e-03, 1.71386243e-02, 2.13831022e-02, 2.98219879e-01,\n",
       "       2.74836416e-01, 0.00000000e+00, 0.00000000e+00, 0.00000000e+00,\n",
       "       8.34019622e-01, 2.14063141e-02, 4.23056129e-02, 3.78021619e-02,\n",
       "       4.02730592e-01, 3.72212764e-01, 0.00000000e+00, 0.00000000e+00,\n",
       "       0.00000000e+00, 9.25181387e-01, 2.02609130e-02, 5.02919811e-02,\n",
       "       5.19041606e-02, 2.83474563e-01, 2.40930993e-01, 0.00000000e+00,\n",
       "       0.00000000e+00, 0.00000000e+00, 9.25164990e-01, 1.40193593e-02,\n",
       "       4.45835966e-02, 3.31318397e-02, 2.85310971e-01, 2.43691264e-01,\n",
       "       0.00000000e+00, 0.00000000e+00, 0.00000000e+00, 8.67063671e-01,\n",
       "       1.55542592e-02, 2.42294565e-02, 2.45104403e-02, 3.64471401e-01,\n",
       "       3.37537294e-01, 0.00000000e+00, 0.00000000e+00, 0.00000000e+00,\n",
       "       9.32804408e-01, 1.33116712e-02, 4.06719936e-02, 3.66663660e-02,\n",
       "       2.66697687e-01, 2.35738090e-01, 0.00000000e+00, 0.00000000e+00,\n",
       "       0.00000000e+00, 9.42503364e-01, 1.03842003e-02, 2.60196571e-02,\n",
       "       2.11404695e-02, 2.46940213e-01, 2.22432387e-01, 0.00000000e+00,\n",
       "       0.00000000e+00, 0.00000000e+00, 8.76429334e-01, 1.54095288e-02,\n",
       "       5.40268433e-02, 4.77014432e-02, 3.51204134e-01, 3.21084875e-01,\n",
       "       0.00000000e+00, 0.00000000e+00, 0.00000000e+00])"
      ]
     },
     "execution_count": 190,
     "metadata": {},
     "output_type": "execute_result"
    }
   ],
   "source": [
    "a = phog(img,3)\n",
    "a"
   ]
  },
  {
   "cell_type": "code",
   "execution_count": 170,
   "metadata": {},
   "outputs": [
    {
     "data": {
      "text/plain": [
       "2"
      ]
     },
     "execution_count": 170,
     "metadata": {},
     "output_type": "execute_result"
    }
   ],
   "source": []
  },
  {
   "cell_type": "code",
   "execution_count": null,
   "metadata": {},
   "outputs": [],
   "source": []
  }
 ],
 "metadata": {
  "kernelspec": {
   "display_name": "Python 3",
   "language": "python",
   "name": "python3"
  },
  "language_info": {
   "codemirror_mode": {
    "name": "ipython",
    "version": 3
   },
   "file_extension": ".py",
   "mimetype": "text/x-python",
   "name": "python",
   "nbconvert_exporter": "python",
   "pygments_lexer": "ipython3",
   "version": "3.7.4"
  }
 },
 "nbformat": 4,
 "nbformat_minor": 4
}

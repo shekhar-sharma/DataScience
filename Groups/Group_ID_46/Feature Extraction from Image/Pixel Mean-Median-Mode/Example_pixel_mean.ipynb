{
 "cells": [
  {
   "cell_type": "markdown",
   "metadata": {},
   "source": [
    "# Feature Extraction from Image (Pixel Average-Median-Mode)\n",
    "---\n",
    "\n",
    "### Package Name: pixel_features\n",
    "---\n",
    "\n",
    "## Methods:\n",
    "\n",
    "### mean_pixel_value(image):\n",
    "This method returns numpy array containing 4 values i.e. channelwise average pixel values and also overall average pixel value.\n",
    "\n",
    "#### Parameters:\n",
    "- **Image:** It takes a 3 dimensional image as input.\n",
    "---\n",
    "\n",
    "## Example:"
   ]
  },
  {
   "cell_type": "code",
   "execution_count": 1,
   "metadata": {},
   "outputs": [],
   "source": [
    "import cv2\n",
    "from pixel_features import pixel_features"
   ]
  },
  {
   "cell_type": "code",
   "execution_count": 2,
   "metadata": {},
   "outputs": [
    {
     "name": "stdout",
     "output_type": "stream",
     "text": [
      "Mean pixel values are:  [43.78883905 51.82413609 57.27795148 50.96364221]\n",
      "Mean pixel value of blue channel is:  43.788839053254435\n",
      "Mean pixel value of green channel is:  51.82413609467456\n",
      "Mean pixel value of red channel is:  57.27795147928994\n",
      "Mean pixel value of entire image is:  50.96364220907298\n"
     ]
    }
   ],
   "source": [
    "# Creating object by calling class pixel_features\n",
    "features = pixel_features()\n",
    "\n",
    "# Using cv2.imread('') to read input image\n",
    "image = cv2.imread('puppy.jpg')\n",
    "\n",
    "# Passing image to mean_pixel_value to get average pixel values\n",
    "mean = features.mean_pixel_value(image)\n",
    "\n",
    "# Display resulting mean values\n",
    "print(\"Mean pixel values are: \", mean)\n",
    "print(\"Mean pixel value of blue channel is: \", mean[0])\n",
    "print(\"Mean pixel value of green channel is: \", mean[1])\n",
    "print(\"Mean pixel value of red channel is: \", mean[2])\n",
    "print(\"Mean pixel value of entire image is: \", mean[3])"
   ]
  }
 ],
 "metadata": {
  "kernelspec": {
   "display_name": "Python 3",
   "language": "python",
   "name": "python3"
  },
  "language_info": {
   "codemirror_mode": {
    "name": "ipython",
    "version": 3
   },
   "file_extension": ".py",
   "mimetype": "text/x-python",
   "name": "python",
   "nbconvert_exporter": "python",
   "pygments_lexer": "ipython3",
   "version": "3.8.3"
  }
 },
 "nbformat": 4,
 "nbformat_minor": 4
}

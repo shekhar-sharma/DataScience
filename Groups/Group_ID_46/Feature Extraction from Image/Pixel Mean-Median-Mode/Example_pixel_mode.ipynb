{
 "cells": [
  {
   "cell_type": "markdown",
   "metadata": {},
   "source": [
    "# Feature Extraction from Image (Pixel Average-Median-Mode)\n",
    "---\n",
    "\n",
    "### Package Name: pixel_features\n",
    "---\n",
    "\n",
    "## Methods:\n",
    "\n",
    "### mode_pixel_value(image):\n",
    "This method returns numpy array containing 4 values i.e. channelwise most frequent pixel value and also overall most frequent pixel value.\n",
    "\n",
    "#### Parameters:\n",
    "- **Image:** It takes a 3 dimensional image as input.\n",
    "---\n",
    "\n",
    "## Example:"
   ]
  },
  {
   "cell_type": "code",
   "execution_count": 1,
   "metadata": {},
   "outputs": [],
   "source": [
    "import cv2\n",
    "from pixel_features import pixel_features"
   ]
  },
  {
   "cell_type": "code",
   "execution_count": 2,
   "metadata": {},
   "outputs": [
    {
     "name": "stdout",
     "output_type": "stream",
     "text": [
      "Mode pixel values are:  [21 25 21 21]\n",
      "Mode pixel value of blue channel is:  21\n",
      "Mode pixel value of green channel is:  25\n",
      "Mode pixel value of red channel is:  21\n",
      "Mode pixel value of entire image is:  21\n"
     ]
    }
   ],
   "source": [
    "# Creating object by calling class pixel_features\n",
    "features = pixel_features()\n",
    "\n",
    "# Using cv2.imread('') to read input image\n",
    "image = cv2.imread('puppy.jpg')\n",
    "\n",
    "# Passing image to mode_pixel_value to get most frequent pixel values\n",
    "mode = features.mode_pixel_value(image)\n",
    "\n",
    "# Display resulting mode values\n",
    "print(\"Mode pixel values are: \", mode)\n",
    "print(\"Mode pixel value of blue channel is: \", mode[0])\n",
    "print(\"Mode pixel value of green channel is: \", mode[1])\n",
    "print(\"Mode pixel value of red channel is: \", mode[2])\n",
    "print(\"Mode pixel value of entire image is: \", mode[3])"
   ]
  }
 ],
 "metadata": {
  "kernelspec": {
   "display_name": "Python 3",
   "language": "python",
   "name": "python3"
  },
  "language_info": {
   "codemirror_mode": {
    "name": "ipython",
    "version": 3
   },
   "file_extension": ".py",
   "mimetype": "text/x-python",
   "name": "python",
   "nbconvert_exporter": "python",
   "pygments_lexer": "ipython3",
   "version": "3.8.3"
  }
 },
 "nbformat": 4,
 "nbformat_minor": 4
}

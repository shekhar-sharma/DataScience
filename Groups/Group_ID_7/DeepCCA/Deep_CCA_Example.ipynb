{
  "nbformat": 4,
  "nbformat_minor": 0,
  "metadata": {
    "kernelspec": {
      "display_name": "Python 3",
      "language": "python",
      "name": "python3"
    },
    "language_info": {
      "codemirror_mode": {
        "name": "ipython",
        "version": 3
      },
      "file_extension": ".py",
      "mimetype": "text/x-python",
      "name": "python",
      "nbconvert_exporter": "python",
      "pygments_lexer": "ipython3",
      "version": "3.7.4"
    },
    "toc": {
      "base_numbering": 1,
      "nav_menu": {},
      "number_sections": true,
      "sideBar": true,
      "skip_h1_title": false,
      "title_cell": "Table of Contents",
      "title_sidebar": "Contents",
      "toc_cell": false,
      "toc_position": {},
      "toc_section_display": true,
      "toc_window_display": false
    },
    "varInspector": {
      "cols": {
        "lenName": 16,
        "lenType": 16,
        "lenVar": 40
      },
      "kernels_config": {
        "python": {
          "delete_cmd_postfix": "",
          "delete_cmd_prefix": "del ",
          "library": "var_list.py",
          "varRefreshCmd": "print(var_dic_list())"
        },
        "r": {
          "delete_cmd_postfix": ") ",
          "delete_cmd_prefix": "rm(",
          "library": "var_list.r",
          "varRefreshCmd": "cat(var_dic_list()) "
        }
      },
      "types_to_exclude": [
        "module",
        "function",
        "builtin_function_or_method",
        "instance",
        "_Feature"
      ],
      "window_display": false
    },
    "colab": {
      "name": "Deep CCA Example.ipynb",
      "provenance": [],
      "collapsed_sections": []
    }
  },
  "cells": [
    {
      "cell_type": "code",
      "metadata": {
        "id": "ilEE32U-oJMo"
      },
      "source": [
        "\n",
        "%load_ext autoreload\n",
        "%autoreload 2\n",
        "import torch\n",
        "import torch.nn as nn\n",
        "import numpy as np\n",
        "from torch.utils.data import BatchSampler, SequentialSampler\n",
        "try:\n",
        "    import cPickle as thepickle\n",
        "except ImportError:\n",
        "    import _pickle as thepickle\n",
        "\n",
        "import gzip\n",
        "import numpy as np\n",
        "torch.set_default_tensor_type(torch.DoubleTensor)"
      ],
      "execution_count": 2,
      "outputs": []
    },
    {
      "cell_type": "code",
      "metadata": {
        "id": "3iPZVxHE0CpW"
      },
      "source": [
        "from DeepCCA import DeepCCA , Model"
      ],
      "execution_count": 3,
      "outputs": []
    },
    {
      "cell_type": "code",
      "metadata": {
        "colab": {
          "base_uri": "https://localhost:8080/"
        },
        "id": "jEK2aiwQzq6w",
        "outputId": "3614dc11-1fd6-4a32-8d65-edfaa821ac91"
      },
      "source": [
        "device = torch.device('cpu')\n",
        "print(\"Using\", torch.cuda.device_count(), \"GPUs\")\n",
        "\n",
        "# the path to save the final learned features\n",
        "save_to = './new_features.gz'\n",
        "\n",
        "# the size of the new space learned by the model (number of the new features)\n",
        "outdim_size = 10\n",
        "\n",
        "# size of the input for view 1 and view 2\n",
        "input_shape1 = 6\n",
        "input_shape2 = 47\n",
        "\n",
        "# number of layers with nodes in each one\n",
        "layer_sizes1 = [1024, 1024, 1024, outdim_size]\n",
        "layer_sizes2 = [1024, 1024, 1024, outdim_size]\n",
        "\n",
        "# the parameters for training the network\n",
        "learning_rate = 1e-3\n",
        "epoch_num = 10\n",
        "batch_size = 800\n",
        "# apply linear CCA on model output\n",
        "linear_cca= False\n",
        "\n",
        "# the regularization parameter of the network\n",
        "# seems necessary to avoid the gradient exploding especially when non-saturating activations are used\n",
        "reg_par = 1e-5\n",
        "\n",
        "# specifies if all the singular values should get used to calculate the correlation or just the top outdim_size ones\n",
        "# if one option does not work for a network or dataset, try the other one\n",
        "use_all_singular_values = False\n",
        "\n",
        "# if a linear CCA should get applied on the learned features extracted from the networks\n",
        "# it does not affect the performance on noisy MNIST significantly\n",
        "apply_linear_cca = True\n",
        "# end of parameters section\n",
        "############"
      ],
      "execution_count": 14,
      "outputs": [
        {
          "output_type": "stream",
          "text": [
            "Using 0 GPUs\n"
          ],
          "name": "stdout"
        }
      ]
    },
    {
      "cell_type": "code",
      "metadata": {
        "id": "d4qlTObzlPcH"
      },
      "source": [
        "X1 = np.loadtxt(\"/content/mfeat-mor\")\n",
        "X2 = np.loadtxt(\"/content/mfeat-zer\")\n",
        "\n",
        "X1 = torch.from_numpy(X1)\n",
        "X2 = torch.from_numpy(X2)\n",
        "\n"
      ],
      "execution_count": 10,
      "outputs": []
    },
    {
      "cell_type": "code",
      "metadata": {
        "colab": {
          "base_uri": "https://localhost:8080/"
        },
        "id": "e3TrdzXS0jeZ",
        "outputId": "4b552232-f592-4f21-eded-ccc5c0f03902"
      },
      "source": [
        " model = Model(layer_sizes1, layer_sizes2, input_shape1,input_shape2, outdim_size, use_all_singular_values).double()\n",
        " deepcca = DeepCCA(model,  outdim_size , epoch_num , batch_size , learning_rate , reg_par , linear_cca  )\n"
      ],
      "execution_count": 15,
      "outputs": [
        {
          "output_type": "stream",
          "text": [
            "[ INFO : 2020-12-13 17:18:03,071 ] - DataParallel(\n",
            "  (module): Model(\n",
            "    (model1): MlpNet(\n",
            "      (layers): ModuleList(\n",
            "        (0): Sequential(\n",
            "          (0): Linear(in_features=6, out_features=1024, bias=True)\n",
            "          (1): Sigmoid()\n",
            "          (2): BatchNorm1d(1024, eps=1e-05, momentum=0.1, affine=False, track_running_stats=True)\n",
            "        )\n",
            "        (1): Sequential(\n",
            "          (0): Linear(in_features=1024, out_features=1024, bias=True)\n",
            "          (1): Sigmoid()\n",
            "          (2): BatchNorm1d(1024, eps=1e-05, momentum=0.1, affine=False, track_running_stats=True)\n",
            "        )\n",
            "        (2): Sequential(\n",
            "          (0): Linear(in_features=1024, out_features=1024, bias=True)\n",
            "          (1): Sigmoid()\n",
            "          (2): BatchNorm1d(1024, eps=1e-05, momentum=0.1, affine=False, track_running_stats=True)\n",
            "        )\n",
            "        (3): Sequential(\n",
            "          (0): BatchNorm1d(1024, eps=1e-05, momentum=0.1, affine=False, track_running_stats=True)\n",
            "          (1): Linear(in_features=1024, out_features=10, bias=True)\n",
            "        )\n",
            "      )\n",
            "    )\n",
            "    (model2): MlpNet(\n",
            "      (layers): ModuleList(\n",
            "        (0): Sequential(\n",
            "          (0): Linear(in_features=47, out_features=1024, bias=True)\n",
            "          (1): Sigmoid()\n",
            "          (2): BatchNorm1d(1024, eps=1e-05, momentum=0.1, affine=False, track_running_stats=True)\n",
            "        )\n",
            "        (1): Sequential(\n",
            "          (0): Linear(in_features=1024, out_features=1024, bias=True)\n",
            "          (1): Sigmoid()\n",
            "          (2): BatchNorm1d(1024, eps=1e-05, momentum=0.1, affine=False, track_running_stats=True)\n",
            "        )\n",
            "        (2): Sequential(\n",
            "          (0): Linear(in_features=1024, out_features=1024, bias=True)\n",
            "          (1): Sigmoid()\n",
            "          (2): BatchNorm1d(1024, eps=1e-05, momentum=0.1, affine=False, track_running_stats=True)\n",
            "        )\n",
            "        (3): Sequential(\n",
            "          (0): BatchNorm1d(1024, eps=1e-05, momentum=0.1, affine=False, track_running_stats=True)\n",
            "          (1): Linear(in_features=1024, out_features=10, bias=True)\n",
            "        )\n",
            "      )\n",
            "    )\n",
            "  )\n",
            ")\n",
            "[ INFO : 2020-12-13 17:18:03,073 ] - RMSprop (\n",
            "Parameter Group 0\n",
            "    alpha: 0.99\n",
            "    centered: False\n",
            "    eps: 1e-08\n",
            "    lr: 0.001\n",
            "    momentum: 0\n",
            "    weight_decay: 1e-05\n",
            ")\n"
          ],
          "name": "stderr"
        }
      ]
    },
    {
      "cell_type": "code",
      "metadata": {
        "colab": {
          "base_uri": "https://localhost:8080/"
        },
        "id": "Il-muGBL-xqp",
        "outputId": "2178d866-fd32-400b-8ba5-f849153d04da"
      },
      "source": [
        "deepcca.fit(X1 , X2)"
      ],
      "execution_count": 16,
      "outputs": [
        {
          "output_type": "stream",
          "text": [
            "[ INFO : 2020-12-13 17:18:10,163 ] - Epoch 1/10 - time: 3.26 - training_loss: -2.9546\n",
            "[ INFO : 2020-12-13 17:18:13,435 ] - Epoch 2/10 - time: 3.27 - training_loss: -3.4379\n",
            "[ INFO : 2020-12-13 17:18:16,687 ] - Epoch 3/10 - time: 3.25 - training_loss: -3.6870\n",
            "[ INFO : 2020-12-13 17:18:19,949 ] - Epoch 4/10 - time: 3.26 - training_loss: -3.8271\n",
            "[ INFO : 2020-12-13 17:18:23,212 ] - Epoch 5/10 - time: 3.26 - training_loss: -3.9346\n",
            "[ INFO : 2020-12-13 17:18:26,487 ] - Epoch 6/10 - time: 3.27 - training_loss: -4.0597\n",
            "[ INFO : 2020-12-13 17:18:29,753 ] - Epoch 7/10 - time: 3.26 - training_loss: -4.1702\n",
            "[ INFO : 2020-12-13 17:18:32,985 ] - Epoch 8/10 - time: 3.23 - training_loss: -4.2569\n",
            "[ INFO : 2020-12-13 17:18:36,233 ] - Epoch 9/10 - time: 3.25 - training_loss: -4.3769\n",
            "[ INFO : 2020-12-13 17:18:39,492 ] - Epoch 10/10 - time: 3.26 - training_loss: -4.4586\n"
          ],
          "name": "stderr"
        }
      ]
    },
    {
      "cell_type": "code",
      "metadata": {
        "id": "j9W93i2M_jL_"
      },
      "source": [
        "outputs = deepcca.transform(X1,X2, linear_cca)\n"
      ],
      "execution_count": 17,
      "outputs": []
    },
    {
      "cell_type": "code",
      "metadata": {
        "id": "R2QSOk4qskz8"
      },
      "source": [
        ""
      ],
      "execution_count": null,
      "outputs": []
    }
  ]
}